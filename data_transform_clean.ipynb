{
 "cells": [
  {
   "cell_type": "markdown",
   "id": "bb3fbb7c",
   "metadata": {},
   "source": [
    "## Data Cleaning and Transformation"
   ]
  },
  {
   "cell_type": "markdown",
   "id": "7e06b540",
   "metadata": {},
   "source": [
    "### 1. Import Library & JSON File"
   ]
  },
  {
   "cell_type": "code",
   "execution_count": null,
   "id": "ec562fc0",
   "metadata": {},
   "outputs": [],
   "source": [
    "import pandas as pd\n",
    "import numpy as np"
   ]
  },
  {
   "cell_type": "code",
   "execution_count": 4,
   "id": "8ae526e7",
   "metadata": {},
   "outputs": [],
   "source": [
    "dataframe = pd.read_json('/Users/bilawalhaesri/Documents/Bilawal Haesri/Work/Kalbe/sales-data-transformation/sales.json')"
   ]
  },
  {
   "cell_type": "code",
   "execution_count": 10,
   "id": "cd319c04",
   "metadata": {},
   "outputs": [
    {
     "name": "stdout",
     "output_type": "stream",
     "text": [
      "   order_id  customer_id product_name  quantity  order_date\n",
      "0     12345        67890       Fitbar         2  2023-05-10\n",
      "1     23456        78901     Prenagen         3  2023-05-12\n",
      "2     34567        89012      HiC1000         1  2023-05-15\n"
     ]
    }
   ],
   "source": [
    "print(dataframe)"
   ]
  },
  {
   "cell_type": "markdown",
   "id": "5bd5dc5d",
   "metadata": {},
   "source": [
    "### 2. Checking Empty and Duplicated Data"
   ]
  },
  {
   "cell_type": "code",
   "execution_count": 12,
   "id": "c86361a5",
   "metadata": {},
   "outputs": [
    {
     "name": "stdout",
     "output_type": "stream",
     "text": [
      "order_id        0\n",
      "customer_id     0\n",
      "product_name    0\n",
      "quantity        0\n",
      "order_date      0\n",
      "dtype: int64\n"
     ]
    }
   ],
   "source": [
    "print(dataframe.isnull().sum())"
   ]
  },
  {
   "cell_type": "code",
   "execution_count": 13,
   "id": "8fc245e7",
   "metadata": {},
   "outputs": [
    {
     "name": "stdout",
     "output_type": "stream",
     "text": [
      "0\n"
     ]
    }
   ],
   "source": [
    "print(dataframe.duplicated().sum())"
   ]
  },
  {
   "cell_type": "markdown",
   "id": "794922b8",
   "metadata": {},
   "source": [
    "### 3. Transforming Data"
   ]
  },
  {
   "cell_type": "code",
   "execution_count": 17,
   "id": "d6dbd16d",
   "metadata": {},
   "outputs": [],
   "source": [
    "dataframe['total_price'] = dataframe['quantity']*100000"
   ]
  },
  {
   "cell_type": "code",
   "execution_count": 18,
   "id": "d2e0eeb1",
   "metadata": {},
   "outputs": [
    {
     "name": "stdout",
     "output_type": "stream",
     "text": [
      "   order_id  customer_id product_name  quantity  order_date  total_price\n",
      "0     12345        67890       Fitbar         2  2023-05-10       200000\n",
      "1     23456        78901     Prenagen         3  2023-05-12       300000\n",
      "2     34567        89012      HiC1000         1  2023-05-15       100000\n"
     ]
    }
   ],
   "source": [
    "print(dataframe)"
   ]
  },
  {
   "cell_type": "code",
   "execution_count": 22,
   "id": "dded6bdc",
   "metadata": {},
   "outputs": [],
   "source": [
    "customer_spending = dataframe.groupby('customer_id')['total_price'].sum()"
   ]
  },
  {
   "cell_type": "code",
   "execution_count": 20,
   "id": "02864abc",
   "metadata": {},
   "outputs": [
    {
     "name": "stdout",
     "output_type": "stream",
     "text": [
      "customer_id\n",
      "67890    200000\n",
      "78901    300000\n",
      "89012    100000\n",
      "Name: total_price, dtype: int64\n"
     ]
    }
   ],
   "source": [
    "print(customer_spending)"
   ]
  },
  {
   "cell_type": "markdown",
   "id": "4104ccc8",
   "metadata": {},
   "source": [
    "### 4. Convert to CSV File"
   ]
  },
  {
   "cell_type": "code",
   "execution_count": 23,
   "id": "313f3089",
   "metadata": {},
   "outputs": [],
   "source": [
    "dataframe.to_csv('sales.csv',index=False)"
   ]
  }
 ],
 "metadata": {
  "kernelspec": {
   "display_name": "Python 3 (ipykernel)",
   "language": "python",
   "name": "python3"
  },
  "language_info": {
   "codemirror_mode": {
    "name": "ipython",
    "version": 3
   },
   "file_extension": ".py",
   "mimetype": "text/x-python",
   "name": "python",
   "nbconvert_exporter": "python",
   "pygments_lexer": "ipython3",
   "version": "3.9.7"
  }
 },
 "nbformat": 4,
 "nbformat_minor": 5
}
